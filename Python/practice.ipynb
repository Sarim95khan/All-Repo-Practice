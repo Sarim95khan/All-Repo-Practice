{
 "cells": [
  {
   "cell_type": "code",
   "execution_count": 3,
   "metadata": {},
   "outputs": [
    {
     "name": "stdout",
     "output_type": "stream",
     "text": [
      "5\n",
      "<class 'int'>\n"
     ]
    }
   ],
   "source": [
    "x=5\n",
    "print(x)\n",
    "print(type(x))"
   ]
  },
  {
   "cell_type": "code",
   "execution_count": 2,
   "metadata": {},
   "outputs": [
    {
     "name": "stdout",
     "output_type": "stream",
     "text": [
      "Hi, Sarim. How are you doing today?\n",
      "<class 'str'>\n"
     ]
    }
   ],
   "source": [
    "message = \"Hi, Sarim. How are you doing today?\"\n",
    "print(message)\n",
    "print(type(message))"
   ]
  },
  {
   "cell_type": "code",
   "execution_count": 12,
   "metadata": {},
   "outputs": [
    {
     "data": {
      "text/plain": [
       "'Hi, Sarim. H'"
      ]
     },
     "execution_count": 12,
     "metadata": {},
     "output_type": "execute_result"
    }
   ],
   "source": [
    "message[0:12]"
   ]
  },
  {
   "cell_type": "code",
   "execution_count": 15,
   "metadata": {},
   "outputs": [
    {
     "name": "stdout",
     "output_type": "stream",
     "text": [
      "(3, 2, 1, 1)\n",
      "<class 'tuple'>\n",
      "3\n",
      "2\n"
     ]
    }
   ],
   "source": [
    "x =(3,2,1,1)\n",
    "print(x)\n",
    "print(type(x))\n",
    "print(x[0])\n",
    "print(x[1])\n",
    "\n"
   ]
  },
  {
   "cell_type": "code",
   "execution_count": 24,
   "metadata": {},
   "outputs": [
    {
     "name": "stdout",
     "output_type": "stream",
     "text": [
      "{'sarim', 'Hasan', 'yahya'}\n",
      "{'sarim', 'sara', 'Hasan', 'yahya'}\n"
     ]
    }
   ],
   "source": [
    "user = {\"sarim\",\"Hasan\",\"yahya\"}\n",
    "print(user)\n",
    "user.add(\"sara\")\n",
    "print(user)\n"
   ]
  },
  {
   "cell_type": "code",
   "execution_count": 30,
   "metadata": {},
   "outputs": [
    {
     "name": "stdout",
     "output_type": "stream",
     "text": [
      "{'name': 'John', 'age': 30, 'city': 'New York'}\n",
      "John\n"
     ]
    },
    {
     "data": {
      "text/plain": [
       "{'name': 'Jane', 'age': 30, 'city': 'New York'}"
      ]
     },
     "execution_count": 30,
     "metadata": {},
     "output_type": "execute_result"
    }
   ],
   "source": [
    "user_data = {\n",
    "    \"name\": \"John\",\n",
    "    \"age\": 30,\n",
    "    \"city\": \"New York\"\n",
    "}\n",
    "\n",
    "print(user_data)\n",
    "print(user_data[\"name\"])\n",
    "\n",
    "user_data[\"name\"] = \"Jane\"\n",
    "user_data"
   ]
  },
  {
   "cell_type": "code",
   "execution_count": 31,
   "metadata": {},
   "outputs": [
    {
     "name": "stdout",
     "output_type": "stream",
     "text": [
      "Sarim\n",
      "Hasan\n",
      "Yahya\n"
     ]
    }
   ],
   "source": [
    "user_list = ['Sarim','Hasan','Yahya']\n",
    "\n",
    "for i in user_list:\n",
    "    print(i)"
   ]
  },
  {
   "cell_type": "code",
   "execution_count": 32,
   "metadata": {},
   "outputs": [
    {
     "data": {
      "text/plain": [
       "['Sarim', 'Hasan']"
      ]
     },
     "execution_count": 32,
     "metadata": {},
     "output_type": "execute_result"
    }
   ],
   "source": [
    "user_list.pop()\n",
    "user_list "
   ]
  },
  {
   "cell_type": "code",
   "execution_count": 33,
   "metadata": {},
   "outputs": [
    {
     "data": {
      "text/plain": [
       "['Sarim', 'Hasan']"
      ]
     },
     "execution_count": 33,
     "metadata": {},
     "output_type": "execute_result"
    }
   ],
   "source": [
    "user_list"
   ]
  },
  {
   "cell_type": "code",
   "execution_count": 35,
   "metadata": {},
   "outputs": [],
   "source": [
    "user_list.append('Sasukey Uchiha')\n",
    "user_list.append('Sasuke Uchiha')\n"
   ]
  },
  {
   "cell_type": "code",
   "execution_count": 36,
   "metadata": {},
   "outputs": [
    {
     "data": {
      "text/plain": [
       "['Sarim', 'Hasan', 'Sasukey Uchiha', 'Sasukey Uchiha', 'Sasuke Uchiha']"
      ]
     },
     "execution_count": 36,
     "metadata": {},
     "output_type": "execute_result"
    }
   ],
   "source": [
    "user_list"
   ]
  },
  {
   "cell_type": "code",
   "execution_count": 51,
   "metadata": {},
   "outputs": [
    {
     "data": {
      "text/plain": [
       "['Sarim',\n",
       " 'I am One',\n",
       " 'I am One',\n",
       " 'Hasan',\n",
       " 'I am One',\n",
       " 'Sasukey Uchiha',\n",
       " 'Sasukey Uchiha',\n",
       " 'Sasuke Uchiha']"
      ]
     },
     "execution_count": 51,
     "metadata": {},
     "output_type": "execute_result"
    }
   ],
   "source": [
    "user_list\n",
    "user_list.insert(4,\"I am One\")\n",
    "user_list\n"
   ]
  },
  {
   "cell_type": "code",
   "execution_count": 37,
   "metadata": {},
   "outputs": [
    {
     "name": "stdout",
     "output_type": "stream",
     "text": [
      "sarim    \n",
      "sarim\n"
     ]
    }
   ],
   "source": [
    "name = 'sarim    '\n",
    "print(name)\n",
    "\n",
    "print(name.strip())"
   ]
  },
  {
   "cell_type": "code",
   "execution_count": 38,
   "metadata": {},
   "outputs": [
    {
     "name": "stdout",
     "output_type": "stream",
     "text": [
      "[1, 1, 1, 2, 2, 4, 6, 8, 32]\n"
     ]
    }
   ],
   "source": [
    "unorder = [1,4,2,1,6,8,32,2,1]\n",
    "unorder.sort()\n",
    "print(unorder)"
   ]
  },
  {
   "cell_type": "code",
   "execution_count": 44,
   "metadata": {},
   "outputs": [
    {
     "name": "stdout",
     "output_type": "stream",
     "text": [
      "sarim    \n",
      "Hello, Sarim. Welcome to Python\n"
     ]
    }
   ],
   "source": [
    "print(name)\n",
    "name.title().strip()\n",
    "name.upper()\n",
    "print(f'Hello, {name.title().strip()}. Welcome to Python')\n"
   ]
  },
  {
   "cell_type": "code",
   "execution_count": 46,
   "metadata": {},
   "outputs": [
    {
     "name": "stdout",
     "output_type": "stream",
     "text": [
      "Sarim Khan\n"
     ]
    }
   ],
   "source": [
    "first_name = 'Sarim'\n",
    "last_name = 'Khan'\n",
    "full_name = \"{} {}\".format(first_name, last_name)\n",
    "\n",
    "print(full_name)"
   ]
  },
  {
   "cell_type": "code",
   "execution_count": 47,
   "metadata": {},
   "outputs": [
    {
     "name": "stdout",
     "output_type": "stream",
     "text": [
      "Sarim \n",
      " Yahya \n",
      " Hasan\n"
     ]
    }
   ],
   "source": [
    "print('Sarim \\n Yahya \\n Hasan')"
   ]
  },
  {
   "cell_type": "code",
   "execution_count": 6,
   "metadata": {},
   "outputs": [
    {
     "name": "stdout",
     "output_type": "stream",
     "text": [
      "1\n",
      "2\n",
      "3\n",
      "4\n",
      "5\n",
      "6\n",
      "7\n",
      "8\n",
      "9\n",
      "10\n"
     ]
    }
   ],
   "source": [
    "for i in range(1,11,1):\n",
    "    print(i)"
   ]
  },
  {
   "cell_type": "code",
   "execution_count": 8,
   "metadata": {},
   "outputs": [
    {
     "name": "stdout",
     "output_type": "stream",
     "text": [
      "5\n",
      "5\n",
      "5\n"
     ]
    }
   ],
   "source": [
    "available = True\n",
    "\n",
    "while True:\n",
    "    print(x)\n",
    "    print(x)\n",
    "    print(x)\n",
    "    break"
   ]
  },
  {
   "cell_type": "code",
   "execution_count": 9,
   "metadata": {},
   "outputs": [
    {
     "name": "stdout",
     "output_type": "stream",
     "text": [
      "X is 5\n"
     ]
    }
   ],
   "source": [
    "if x==5:\n",
    "    print(\"X is 5\")"
   ]
  },
  {
   "cell_type": "code",
   "execution_count": 52,
   "metadata": {},
   "outputs": [
    {
     "name": "stdout",
     "output_type": "stream",
     "text": [
      "['Honda', 'Yamaha', 'Suzuki']\n",
      "The last motorcycle I owned was a Suzuki.\n",
      "motor cycles total: ['Honda', 'Yamaha']\n"
     ]
    }
   ],
   "source": [
    "motor_cycle = ['Honda','Yamaha','Suzuki']\n",
    "print(motor_cycle)\n",
    "\n",
    "last_owned = motor_cycle.pop()\n",
    "print(f\"The last motorcycle I owned was a {last_owned.title()}.\")\n",
    "\n",
    "print(\"motor cycles total:\", motor_cycle)"
   ]
  },
  {
   "cell_type": "code",
   "execution_count": null,
   "metadata": {},
   "outputs": [],
   "source": []
  }
 ],
 "metadata": {
  "kernelspec": {
   "display_name": "Python 3",
   "language": "python",
   "name": "python3"
  },
  "language_info": {
   "codemirror_mode": {
    "name": "ipython",
    "version": 3
   },
   "file_extension": ".py",
   "mimetype": "text/x-python",
   "name": "python",
   "nbconvert_exporter": "python",
   "pygments_lexer": "ipython3",
   "version": "3.12.2"
  }
 },
 "nbformat": 4,
 "nbformat_minor": 2
}
